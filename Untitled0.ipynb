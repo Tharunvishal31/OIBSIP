{
  "nbformat": 4,
  "nbformat_minor": 0,
  "metadata": {
    "colab": {
      "provenance": [],
      "authorship_tag": "ABX9TyMMrZskwL1bGgzvyUlKXrve",
      "include_colab_link": true
    },
    "kernelspec": {
      "name": "python3",
      "display_name": "Python 3"
    },
    "language_info": {
      "name": "python"
    }
  },
  "cells": [
    {
      "cell_type": "markdown",
      "metadata": {
        "id": "view-in-github",
        "colab_type": "text"
      },
      "source": [
        "<a href=\"https://colab.research.google.com/github/Tharunvishal31/OIBSIP/blob/main/Untitled0.ipynb\" target=\"_parent\"><img src=\"https://colab.research.google.com/assets/colab-badge.svg\" alt=\"Open In Colab\"/></a>"
      ]
    },
    {
      "cell_type": "code",
      "execution_count": 2,
      "metadata": {
        "colab": {
          "base_uri": "https://localhost:8080/"
        },
        "id": "D6CfiE0HwlFd",
        "outputId": "d65832d3-8e5f-4582-a14f-b8ee52e4dbd7"
      },
      "outputs": [
        {
          "output_type": "stream",
          "name": "stdout",
          "text": [
            "4\n"
          ]
        }
      ],
      "source": [
        "from collections import deque\n",
        "\n",
        "class Solution:\n",
        "    def solve(self, board):\n",
        "        visited = {}  # Use a different name for the visited states\n",
        "        flatten = []\n",
        "\n",
        "        # Flatten the board into a tuple for easy comparison and storage\n",
        "        for i in range(len(board)):\n",
        "            flatten += board[i]\n",
        "\n",
        "        flatten = tuple(flatten)  # Convert to tuple to make it hashable\n",
        "        visited[flatten] = 0  # Store the initial state with 0 moves\n",
        "\n",
        "        # If the initial state is already the solved state, return 0\n",
        "        if flatten == (0, 1, 2, 3, 4, 5, 6, 7, 8):\n",
        "            return 0\n",
        "\n",
        "        # Start BFS to find the solution\n",
        "        return self.get_paths(visited)\n",
        "\n",
        "    def get_paths(self, visited):\n",
        "        # BFS approach: Queue stores tuples of the current board state\n",
        "        # and the number of moves taken to reach that state\n",
        "        queue = deque([(state, steps) for state, steps in visited.items()])\n",
        "        cnt = 0\n",
        "\n",
        "        while queue:\n",
        "            current_node, cnt = queue.popleft()\n",
        "            if current_node == (0, 1, 2, 3, 4, 5, 6, 7, 8):\n",
        "                return cnt\n",
        "\n",
        "            # Explore the next possible moves\n",
        "            next_moves = self.find_next(current_node)\n",
        "            for move in next_moves:\n",
        "                if move not in visited:\n",
        "                    visited[move] = cnt + 1\n",
        "                    queue.append((move, cnt + 1))\n",
        "\n",
        "            cnt += 1\n",
        "\n",
        "        return -1  # Return -1 if no solution is found\n",
        "\n",
        "    def find_next(self, node):\n",
        "        moves = {\n",
        "            0: [1, 3], 1: [0, 2, 4], 2: [1, 5],\n",
        "            3: [0, 4, 6], 4: [1, 3, 5, 7], 5: [2, 4, 8],\n",
        "            6: [3, 7], 7: [4, 6, 8], 8: [5, 7],\n",
        "        }\n",
        "\n",
        "        results = []\n",
        "        pos_0 = node.index(0)  # Find the position of 0 (empty space)\n",
        "\n",
        "        # Generate new states by swapping the '0' with its adjacent tiles\n",
        "        for move in moves[pos_0]:\n",
        "            new_node = list(node)\n",
        "            new_node[move], new_node[pos_0] = new_node[pos_0], new_node[move]\n",
        "            results.append(tuple(new_node))\n",
        "\n",
        "        return results\n",
        "\n",
        "# Test case\n",
        "ob = Solution()\n",
        "matrix = [\n",
        "    [3, 1, 2],\n",
        "    [4, 7, 5],\n",
        "    [6, 8, 0]\n",
        "]\n",
        "print(ob.solve(matrix))  # This will print the minimum number of moves or -1 if unsolvable\n"
      ]
    },
    {
      "cell_type": "code",
      "source": [
        "print(\"Enter the number of queens\")\n",
        "N=int(input())\n",
        "board = [[0] * N for _ in range(N)]\n",
        "def is_safe(i,j):\n",
        "  for k in range(N):\n",
        "    if board[i][k] == 1 or board[k][j]==1:\n",
        "      return False\n",
        "  for k in range(N):\n",
        "    for l in range(N):\n",
        "      if (k+1==i+j or k-1==i-j) and board[k][l]==1:\n",
        "        return False\n",
        "  return True\n",
        "def solve_n_queens(n):\n",
        "  if n==0:\n",
        "    return True\n",
        "  for i in range(N):\n",
        "    for j in range(N):\n",
        "      if not is_safe(i,j):\n",
        "        continue\n",
        "      if board[i][j]!=1:\n",
        "        board[i][j] = 1\n",
        "        if solve_n_queens(n - 1):\n",
        "          return True\n",
        "        board[i][j] = 0\n",
        "\n",
        "  return False\n",
        "\n",
        "if solve_n_queens(N):\n",
        "  print(\"Solution exists. Placements of queens:\")\n",
        "  for row in board:\n",
        "    print(row)\n",
        "else:\n",
        "  print(\"No solution exists.\")"
      ],
      "metadata": {
        "colab": {
          "base_uri": "https://localhost:8080/"
        },
        "id": "Ab9N9EiJ0Kxh",
        "outputId": "aa7e89e3-3759-4cec-b3ed-ce525f38470c"
      },
      "execution_count": 5,
      "outputs": [
        {
          "output_type": "stream",
          "name": "stdout",
          "text": [
            "Enter the number of queens\n",
            "4\n",
            "Solution exists. Placements of queens:\n",
            "[1, 0, 0, 0]\n",
            "[0, 0, 0, 1]\n",
            "[0, 1, 0, 0]\n",
            "[0, 0, 1, 0]\n"
          ]
        }
      ]
    },
    {
      "cell_type": "code",
      "source": [],
      "metadata": {
        "id": "4aMo6c5I9Qq1"
      },
      "execution_count": null,
      "outputs": []
    }
  ]
}